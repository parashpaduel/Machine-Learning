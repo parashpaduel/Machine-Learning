{
 "cells": [
  {
   "cell_type": "code",
   "execution_count": 3,
   "id": "d551be0b-13a3-4965-b5de-b6b62e91a4f9",
   "metadata": {},
   "outputs": [
    {
     "name": "stdout",
     "output_type": "stream",
     "text": [
      "Hello Guys\n"
     ]
    }
   ],
   "source": [
    "print (\"Hello Guys\")"
   ]
  },
  {
   "cell_type": "code",
   "execution_count": 4,
   "id": "92bad5d4-fcb7-4f29-ace6-a801866b7ab1",
   "metadata": {},
   "outputs": [
    {
     "name": "stdout",
     "output_type": "stream",
     "text": [
      "ONE\n"
     ]
    }
   ],
   "source": [
    "#Variable\n",
    "one = 'ONE'\n",
    "print(one)\n"
   ]
  },
  {
   "cell_type": "code",
   "execution_count": 16,
   "id": "12dcf6c6-1716-413f-91ab-c75408d464dd",
   "metadata": {},
   "outputs": [
    {
     "data": {
      "text/plain": [
       "str"
      ]
     },
     "execution_count": 16,
     "metadata": {},
     "output_type": "execute_result"
    }
   ],
   "source": [
    "# Different data types\n",
    "String_var = 'hoofman'\n",
    "type(String_var)"
   ]
  },
  {
   "cell_type": "code",
   "execution_count": 24,
   "id": "5164ae86-5bd2-40ab-bb8f-225f41eca45b",
   "metadata": {},
   "outputs": [
    {
     "data": {
      "text/plain": [
       "int"
      ]
     },
     "execution_count": 24,
     "metadata": {},
     "output_type": "execute_result"
    }
   ],
   "source": [
    "Integer_var = 12\n",
    "type(Integer_var)"
   ]
  },
  {
   "cell_type": "code",
   "execution_count": 26,
   "id": "22948a4f-f7ee-4365-98f7-fb6c681630ab",
   "metadata": {},
   "outputs": [
    {
     "data": {
      "text/plain": [
       "float"
      ]
     },
     "execution_count": 26,
     "metadata": {},
     "output_type": "execute_result"
    }
   ],
   "source": [
    "Float_var = 12.12\n",
    "type(Float_var)"
   ]
  },
  {
   "cell_type": "code",
   "execution_count": 32,
   "id": "5c7d3523-57fc-4104-b2c0-653bd2f7f577",
   "metadata": {},
   "outputs": [
    {
     "data": {
      "text/plain": [
       "bool"
      ]
     },
     "execution_count": 32,
     "metadata": {},
     "output_type": "execute_result"
    }
   ],
   "source": [
    "type(True)"
   ]
  },
  {
   "cell_type": "code",
   "execution_count": 34,
   "id": "91a2d0bf-4f7d-4acc-ab82-a315e84f3700",
   "metadata": {},
   "outputs": [
    {
     "data": {
      "text/plain": [
       "bool"
      ]
     },
     "execution_count": 34,
     "metadata": {},
     "output_type": "execute_result"
    }
   ],
   "source": [
    "type(False)"
   ]
  },
  {
   "cell_type": "code",
   "execution_count": 36,
   "id": "6e9bdd94-bb75-4a4f-b4ad-61ed17c1be27",
   "metadata": {},
   "outputs": [
    {
     "name": "stdout",
     "output_type": "stream",
     "text": [
      "['Hari', 12, 12.12, True]\n"
     ]
    }
   ],
   "source": [
    "#Python List\n",
    "My_list = ['Hari', 12, 12.12, True]\n",
    "print(My_list)"
   ]
  },
  {
   "cell_type": "code",
   "execution_count": 38,
   "id": "725e17ee-c4d6-4d48-bf2b-eb0982331cee",
   "metadata": {},
   "outputs": [],
   "source": [
    "#Python Dictionary\n",
    "My_dictionary = {\n",
    "    \"Key1\": \"One\",\n",
    "    \"Key2\": \"Two\",\n",
    "    \"Key3\": \"Three\"\n",
    "}"
   ]
  },
  {
   "cell_type": "code",
   "execution_count": null,
   "id": "e8a94438-7c5f-46af-9d49-4fa59644f2b1",
   "metadata": {},
   "outputs": [],
   "source": []
  }
 ],
 "metadata": {
  "kernelspec": {
   "display_name": "Python [conda env:base] *",
   "language": "python",
   "name": "conda-base-py"
  },
  "language_info": {
   "codemirror_mode": {
    "name": "ipython",
    "version": 3
   },
   "file_extension": ".py",
   "mimetype": "text/x-python",
   "name": "python",
   "nbconvert_exporter": "python",
   "pygments_lexer": "ipython3",
   "version": "3.12.7"
  }
 },
 "nbformat": 4,
 "nbformat_minor": 5
}
